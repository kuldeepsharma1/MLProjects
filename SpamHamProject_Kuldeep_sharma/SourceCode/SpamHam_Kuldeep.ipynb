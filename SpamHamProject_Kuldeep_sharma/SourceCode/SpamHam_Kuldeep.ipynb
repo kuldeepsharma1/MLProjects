{
 "cells": [
  {
   "cell_type": "markdown",
   "id": "70e1605a",
   "metadata": {},
   "source": [
    "# Spam Ham Detection using Naive Bayes by kuldeep sharma\n"
   ]
  },
  {
   "cell_type": "markdown",
   "id": "10052e54",
   "metadata": {},
   "source": [
    "Hi, I'm Kuldeep Sharma. I'm working on a project to detect spam and ham messages using Python.\n",
    "It's basically an automated system that classifies incoming messages as either spam or ham based on their content.\n",
    "It's a pretty interesting project, and I'm excited to see how it turns out."
   ]
  },
  {
   "cell_type": "markdown",
   "id": "bf2a97d7",
   "metadata": {},
   "source": [
    "# code"
   ]
  },
  {
   "cell_type": "code",
   "execution_count": 2,
   "id": "f54537c5",
   "metadata": {},
   "outputs": [
    {
     "name": "stdout",
     "output_type": "stream",
     "text": [
      "Accuracy: 0.98\n",
      "Precision: 0.89\n",
      "Recall: 0.95\n",
      "F1 score: 0.92\n",
      "Cross-validation scores: [0.98114901 0.98025135 0.97396768 0.97843666 0.98203055]\n",
      "Average cross-validation score: 0.98\n"
     ]
    }
   ],
   "source": [
    "import pandas as pd\n",
    "import numpy as np\n",
    "from sklearn.feature_extraction.text import CountVectorizer\n",
    "from sklearn.model_selection import train_test_split, cross_val_score\n",
    "from sklearn.naive_bayes import MultinomialNB\n",
    "from sklearn.metrics import accuracy_score, precision_score, recall_score, f1_score\n",
    "\n",
    "# load the data into a pandas DataFrame\n",
    "data = pd.read_csv('./SMSSpamCollection.tsv', sep='\\t', header=None)\n",
    "data.columns = ['label', 'text']\n",
    "\n",
    "# preprocess the text by converting to lowercase, removing punctuation, and tokenizing\n",
    "data['text'] = data['text'].str.lower()\n",
    "data['text'] = data['text'].str.replace('[^\\w\\s]', '', regex=False)\n",
    "data['text'] = data['text'].str.split()\n",
    "\n",
    "# convert the text into a matrix of token counts\n",
    "vectorizer = CountVectorizer(stop_words='english')\n",
    "X = vectorizer.fit_transform(data['text'].apply(lambda x: ' '.join(x)))\n",
    "y = np.array(data['label'])\n",
    "\n",
    "# split the data into training and testing sets\n",
    "X_train, X_test, y_train, y_test = train_test_split(X, y, test_size=0.2, random_state=42)\n",
    "\n",
    "# train the Naive Bayes classifier on the training set\n",
    "clf = MultinomialNB()\n",
    "clf.fit(X_train, y_train)\n",
    "\n",
    "# evaluate the performance of the classifier on the testing set\n",
    "y_pred = clf.predict(X_test)\n",
    "accuracy = accuracy_score(y_test, y_pred)\n",
    "precision = precision_score(y_test, y_pred, pos_label='spam')\n",
    "recall = recall_score(y_test, y_pred, pos_label='spam')\n",
    "f1 = f1_score(y_test, y_pred, pos_label='spam')\n",
    "\n",
    "print(f'Accuracy: {accuracy:.2f}')\n",
    "print(f'Precision: {precision:.2f}')\n",
    "print(f'Recall: {recall:.2f}')\n",
    "print(f'F1 score: {f1:.2f}')\n",
    "\n",
    "# tune the hyperparameters of the classifier using cross-validation\n",
    "scores = cross_val_score(clf, X, y, cv=5)\n",
    "print(f'Cross-validation scores: {scores}')\n",
    "print(f'Average cross-validation score: {np.mean(scores):.2f}')\n"
   ]
  },
  {
   "cell_type": "code",
   "execution_count": null,
   "id": "c2615a43",
   "metadata": {},
   "outputs": [],
   "source": []
  }
 ],
 "metadata": {
  "kernelspec": {
   "display_name": "Python 3 (ipykernel)",
   "language": "python",
   "name": "python3"
  },
  "language_info": {
   "codemirror_mode": {
    "name": "ipython",
    "version": 3
   },
   "file_extension": ".py",
   "mimetype": "text/x-python",
   "name": "python",
   "nbconvert_exporter": "python",
   "pygments_lexer": "ipython3",
   "version": "3.11.2"
  }
 },
 "nbformat": 4,
 "nbformat_minor": 5
}
